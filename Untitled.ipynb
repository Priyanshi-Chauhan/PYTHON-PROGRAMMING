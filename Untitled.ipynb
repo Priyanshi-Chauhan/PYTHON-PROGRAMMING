{
 "cells": [
  {
   "cell_type": "code",
   "execution_count": 1,
   "metadata": {},
   "outputs": [
    {
     "name": "stdout",
     "output_type": "stream",
     "text": [
      "Requirement already satisfied: ttkthemes in c:\\users\\hp\\anaconda3\\lib\\site-packages (3.0.0)\n",
      "Requirement already satisfied: pillow in c:\\users\\hp\\anaconda3\\lib\\site-packages (from ttkthemes) (6.2.0)\n"
     ]
    },
    {
     "name": "stderr",
     "output_type": "stream",
     "text": [
      "WARNING: You are using pip version 20.1; however, version 20.1.1 is available.\n",
      "You should consider upgrading via the 'C:\\Users\\hp\\Anaconda3\\python.exe -m pip install --upgrade pip' command.\n"
     ]
    }
   ],
   "source": [
    "from tkinter import ttk\n",
    "!pip install ttkthemes\n",
    "from ttkthemes import ThemedTk\n",
    "app=ThemedTk(theme=\"radiance\")\n",
    "ttk.Label(app,text=\"username:\").grid(row=0,column=1,ipady=5,ipadx=5)\n",
    "ttk.Entry(app).grid(row=0,column=1,ipady=5,ipadx=5)\n",
    "ttk.Button(app,text=\"check\").grid(row=0,column=2)\n",
    "app.mainloop()"
   ]
  },
  {
   "cell_type": "code",
   "execution_count": 4,
   "metadata": {},
   "outputs": [
    {
     "name": "stdout",
     "output_type": "stream",
     "text": [
      "File Name                                             Modified             Size\n",
      "population_by_country_2020.csv                 2020-04-18 16:21:08        15890\n"
     ]
    }
   ],
   "source": [
    "from zipfile import ZipFile\n",
    "filepath=\"population-by-country-2020.zip\"\n",
    "with ZipFile(filepath,\"r\" )as zip_:\n",
    "    zip_.printdir()\n",
    "    zip_.extractall()"
   ]
  },
  {
   "cell_type": "code",
   "execution_count": null,
   "metadata": {},
   "outputs": [],
   "source": []
  }
 ],
 "metadata": {
  "kernelspec": {
   "display_name": "Python 3",
   "language": "python",
   "name": "python3"
  },
  "language_info": {
   "codemirror_mode": {
    "name": "ipython",
    "version": 3
   },
   "file_extension": ".py",
   "mimetype": "text/x-python",
   "name": "python",
   "nbconvert_exporter": "python",
   "pygments_lexer": "ipython3",
   "version": "3.7.7"
  }
 },
 "nbformat": 4,
 "nbformat_minor": 2
}
