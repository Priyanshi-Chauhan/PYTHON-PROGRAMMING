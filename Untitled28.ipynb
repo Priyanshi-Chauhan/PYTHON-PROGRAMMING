{
  "nbformat": 4,
  "nbformat_minor": 0,
  "metadata": {
    "colab": {
      "name": "Untitled28.ipynb",
      "provenance": []
    },
    "kernelspec": {
      "display_name": "Python 3",
      "name": "python3"
    }
  },
  "cells": [
    {
      "cell_type": "code",
      "metadata": {
        "id": "0hd3IcWS9bCe"
      },
      "source": [
        "import numpy as np\n",
        "data=np.load('drive/My Drive/images.npy', allow_pickle=True)\n",
        "labels=np.load('drive/My Drive/labels.npy', allow_pickle=True)"
      ],
      "execution_count": null,
      "outputs": []
    },
    {
      "cell_type": "code",
      "metadata": {
        "id": "Kho_GD3p_Uvz"
      },
      "source": [
        "from keras import Sequential\n",
        "#importing other required libraries\n",
        "import numpy as np\n",
        "import pandas as pd\n",
        "from sklearn.utils.multiclass import unique_labels\n",
        "import matplotlib.pyplot as plt\n",
        "import matplotlib.image as mpimg\n",
        "import seaborn as sns\n",
        "import itertools\n",
        "from sklearn.model_selection import train_test_split\n",
        "from sklearn.metrics import confusion_matrix\n",
        "from keras import Sequential\n",
        "from keras.applications import VGG19, VGG16, ResNet50\n",
        "from keras.preprocessing.image import ImageDataGenerator\n",
        "from keras.optimizers import SGD,Adam\n",
        "from keras.callbacks import ReduceLROnPlateau\n",
        "from keras.layers import Flatten, Dense, BatchNormalization, Activation,Dropout\n",
        "from keras.utils import to_categorical\n",
        "import tensorflow as tf\n",
        "import random"
      ],
      "execution_count": null,
      "outputs": []
    },
    {
      "cell_type": "code",
      "metadata": {
        "id": "YCqlxSf8-ewU"
      },
      "source": [
        "data=np.asarray(data)"
      ],
      "execution_count": null,
      "outputs": []
    },
    {
      "cell_type": "code",
      "metadata": {
        "id": "f2gf_CeI-nZS"
      },
      "source": [
        "labels=np.asarray(labels)"
      ],
      "execution_count": null,
      "outputs": []
    },
    {
      "cell_type": "code",
      "metadata": {
        "id": "NRQhHRnH-4cQ"
      },
      "source": [
        "from tensorflow.keras.applications.vgg19 import preprocess_input,decode_predictions\n",
        "for i in range(2030):\n",
        "  data[i]=data[i].flatten()\n",
        "  data[i]=data[i][:261075]\n",
        "  data[i]=data[i].reshape((295,295,3))\n",
        "  data[i]=preprocess_input(data[i])"
      ],
      "execution_count": null,
      "outputs": []
    },
    {
      "cell_type": "code",
      "metadata": {
        "id": "IVvRH1t5_AGK"
      },
      "source": [
        "a=tf.keras.utils.to_categorical(labels, num_classes=4)"
      ],
      "execution_count": null,
      "outputs": []
    },
    {
      "cell_type": "code",
      "metadata": {
        "id": "xhdqi7xb_OTl"
      },
      "source": [
        "a=np.delete(a, 0, 1)"
      ],
      "execution_count": null,
      "outputs": []
    },
    {
      "cell_type": "code",
      "metadata": {
        "id": "9Pb22ftG_dM6"
      },
      "source": [
        "data=data[:2030]\n",
        "a=a[:2030]"
      ],
      "execution_count": null,
      "outputs": []
    },
    {
      "cell_type": "code",
      "metadata": {
        "id": "s4-r7XB1DajW"
      },
      "source": [
        "d=[]\n",
        "for i in range(2030):\n",
        "  p=data[i].reshape(295,295,3)\n",
        "  d.append(p)"
      ],
      "execution_count": null,
      "outputs": []
    },
    {
      "cell_type": "code",
      "metadata": {
        "id": "STi_aEyADmLY"
      },
      "source": [
        "d=np.asarray(d)"
      ],
      "execution_count": null,
      "outputs": []
    },
    {
      "cell_type": "code",
      "metadata": {
        "id": "s5WMY6nm_jL0"
      },
      "source": [
        "base_model_VGG19 = VGG19(include_top=False, weights='imagenet', input_shape=(295,295,3))\n",
        "\n",
        "model_vgg19 = Sequential()\n",
        "model_vgg19.add(base_model_VGG19) \n",
        "model_vgg19.add(Flatten()) \n",
        "model_vgg19.add(Dense(1024,activation=('relu'),input_dim=512))\n",
        "model_vgg19.add(Dense(512,activation=('relu'))) \n",
        "model_vgg19.add(Dense(256,activation=('relu'))) \n",
        "#model_vgg19.add(Dropout(.3))\n",
        "model_vgg19.add(Dense(128,activation=('relu')))\n",
        "#model_vgg19.add(Dropout(.2))\n",
        "model_vgg19.add(Dense(3,activation=('softmax')))"
      ],
      "execution_count": null,
      "outputs": []
    },
    {
      "cell_type": "code",
      "metadata": {
        "id": "IZapG5Dy_wpO"
      },
      "source": [
        "#Defining the hyperparameters\n",
        "batch_size= 100\n",
        "epochs=50\n",
        "learn_rate=.001\n",
        "sgd=SGD(lr=learn_rate,momentum=.9,nesterov=False)\n",
        "\n",
        "#Compiling the VGG19 model\n",
        "model_vgg19.compile(optimizer=sgd,loss='categorical_crossentropy',metrics=['accuracy'])"
      ],
      "execution_count": null,
      "outputs": []
    },
    {
      "cell_type": "code",
      "metadata": {
        "id": "ugr5pBx8AVqT"
      },
      "source": [
        "(x_train, x_val, trainY, testY) = train_test_split(d,a,test_size=0.20, random_state=42)"
      ],
      "execution_count": null,
      "outputs": []
    },
    {
      "cell_type": "code",
      "metadata": {
        "id": "wU-RTpZNAovg"
      },
      "source": [
        "#Image Data Augmentation\n",
        "train_generator = ImageDataGenerator(rotation_range=2, horizontal_flip=True, zoom_range=.1 )\n",
        "\n",
        "val_generator = ImageDataGenerator(rotation_range=2, horizontal_flip=True,zoom_range=.1)\n",
        "\n",
        "# test_generator = ImageDataGenerator(rotation_range=2,  horizontal_flip= True, zoom_range=.1)\n",
        "\n",
        "#Fitting the augmentation defined above to the data\n",
        "train_generator.fit(x_train)\n",
        "val_generator.fit(x_val)\n",
        "# test_generator.fit(x_test)"
      ],
      "execution_count": null,
      "outputs": []
    },
    {
      "cell_type": "code",
      "metadata": {
        "id": "DwIMktyjBu9N"
      },
      "source": [
        "H = model_vgg19.fit(x_train, trainY, batch_size=11,steps_per_epoch=len(x_train)//11,validation_data=(x_val, testY),validation_steps=len(x_val)//11 ,epochs=1)"
      ],
      "execution_count": null,
      "outputs": []
    },
    {
      "cell_type": "code",
      "metadata": {
        "colab": {
          "base_uri": "https://localhost:8080/"
        },
        "id": "08XljOFqG7Pb",
        "outputId": "df0c4772-e31d-44d9-b5ae-8b4a92ab7fe7"
      },
      "source": [
        "!pip install -q --upgrade ipython\n",
        "!pip install -q --upgrade ipykernel"
      ],
      "execution_count": null,
      "outputs": [
        {
          "output_type": "stream",
          "text": [
            "\u001b[K     |████████████████████████████████| 788kB 6.2MB/s \n",
            "\u001b[K     |████████████████████████████████| 358kB 45.0MB/s \n",
            "\u001b[31mERROR: jupyter-console 5.2.0 has requirement prompt-toolkit<2.0.0,>=1.0.0, but you'll have prompt-toolkit 3.0.8 which is incompatible.\u001b[0m\n",
            "\u001b[31mERROR: google-colab 1.0.0 has requirement ipython~=5.5.0, but you'll have ipython 7.16.1 which is incompatible.\u001b[0m\n",
            "\u001b[K     |████████████████████████████████| 122kB 6.0MB/s \n",
            "\u001b[31mERROR: jupyter-console 5.2.0 has requirement prompt-toolkit<2.0.0,>=1.0.0, but you'll have prompt-toolkit 3.0.8 which is incompatible.\u001b[0m\n",
            "\u001b[31mERROR: google-colab 1.0.0 has requirement ipykernel~=4.10, but you'll have ipykernel 5.3.4 which is incompatible.\u001b[0m\n",
            "\u001b[31mERROR: google-colab 1.0.0 has requirement ipython~=5.5.0, but you'll have ipython 7.16.1 which is incompatible.\u001b[0m\n",
            "\u001b[?25h"
          ],
          "name": "stdout"
        }
      ]
    },
    {
      "cell_type": "code",
      "metadata": {
        "id": "9UNppGv5IMBP"
      },
      "source": [
        ""
      ],
      "execution_count": null,
      "outputs": []
    }
  ]
}