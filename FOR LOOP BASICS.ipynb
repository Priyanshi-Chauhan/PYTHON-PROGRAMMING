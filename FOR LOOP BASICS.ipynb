{
 "cells": [
  {
   "cell_type": "code",
   "execution_count": 1,
   "metadata": {},
   "outputs": [
    {
     "name": "stdout",
     "output_type": "stream",
     "text": [
      "1\n",
      "2\n",
      "3\n",
      "4\n",
      "5\n",
      "6\n"
     ]
    }
   ],
   "source": [
    "mylist=[1,2,3,4,5,6]\n",
    "for num in mylist :                # elements of the list are printed\n",
    "    print(num)"
   ]
  },
  {
   "cell_type": "code",
   "execution_count": 4,
   "metadata": {},
   "outputs": [
    {
     "name": "stdout",
     "output_type": "stream",
     "text": [
      "0\n",
      "1\n",
      "2\n",
      "3\n",
      "4\n",
      "5\n"
     ]
    }
   ],
   "source": [
    "for n in range(len(mylist)):         # indices are printed\n",
    "    print(n)"
   ]
  },
  {
   "cell_type": "code",
   "execution_count": 5,
   "metadata": {},
   "outputs": [
    {
     "name": "stdout",
     "output_type": "stream",
     "text": [
      "p\n",
      "r\n",
      "i\n",
      "y\n",
      "a\n",
      "n\n",
      "s\n",
      "h\n",
      "i\n"
     ]
    }
   ],
   "source": [
    "mystring=\"priyanshi\"\n",
    "for i in mystring:\n",
    "    print(i)"
   ]
  },
  {
   "cell_type": "code",
   "execution_count": 6,
   "metadata": {},
   "outputs": [],
   "source": [
    "my_appended_list=[]\n",
    "for i in mystring:\n",
    "    my_appended_list.append(i)\n",
    "    "
   ]
  },
  {
   "cell_type": "code",
   "execution_count": 7,
   "metadata": {},
   "outputs": [
    {
     "data": {
      "text/plain": [
       "['p', 'r', 'i', 'y', 'a', 'n', 's', 'h', 'i']"
      ]
     },
     "execution_count": 7,
     "metadata": {},
     "output_type": "execute_result"
    }
   ],
   "source": [
    "my_appended_list"
   ]
  },
  {
   "cell_type": "code",
   "execution_count": 8,
   "metadata": {},
   "outputs": [
    {
     "name": "stdout",
     "output_type": "stream",
     "text": [
      "0\n",
      "1\n",
      "2\n",
      "3\n",
      "4\n",
      "5\n",
      "6\n",
      "7\n",
      "8\n"
     ]
    }
   ],
   "source": [
    "for i in range(len(mystring)):\n",
    "    print(i)"
   ]
  },
  {
   "cell_type": "code",
   "execution_count": 11,
   "metadata": {},
   "outputs": [
    {
     "name": "stdout",
     "output_type": "stream",
     "text": [
      "c\n",
      "a\n",
      "h\n",
      "n\n"
     ]
    }
   ],
   "source": [
    "myname=\"chauhan\"\n",
    "for i in range(len(myname)):              # even indices letters to be printed\n",
    "    if (i%2==0):\n",
    "        print (myname[i])"
   ]
  },
  {
   "cell_type": "code",
   "execution_count": 12,
   "metadata": {},
   "outputs": [],
   "source": [
    "my_name=[myname[i] for i in range(len(myname)) if i%2==0]"
   ]
  },
  {
   "cell_type": "code",
   "execution_count": 14,
   "metadata": {},
   "outputs": [
    {
     "data": {
      "text/plain": [
       "['c', 'a', 'h', 'n']"
      ]
     },
     "execution_count": 14,
     "metadata": {},
     "output_type": "execute_result"
    }
   ],
   "source": [
    "my_name"
   ]
  },
  {
   "cell_type": "code",
   "execution_count": 15,
   "metadata": {},
   "outputs": [
    {
     "name": "stdout",
     "output_type": "stream",
     "text": [
      "h\n",
      "e\n",
      "l\n",
      "l\n",
      "o\n",
      " \n",
      "w\n",
      "o\n",
      "r\n",
      "l\n",
      "d\n"
     ]
    }
   ],
   "source": [
    "string=\"hello world\"\n",
    "for i in string:\n",
    "    print(i)"
   ]
  },
  {
   "cell_type": "code",
   "execution_count": 17,
   "metadata": {},
   "outputs": [],
   "source": [
    "p=[ i for i in string]                # spaces would also be included"
   ]
  },
  {
   "cell_type": "code",
   "execution_count": 18,
   "metadata": {},
   "outputs": [
    {
     "data": {
      "text/plain": [
       "['h', 'e', 'l', 'l', 'o', ' ', 'w', 'o', 'r', 'l', 'd']"
      ]
     },
     "execution_count": 18,
     "metadata": {},
     "output_type": "execute_result"
    }
   ],
   "source": [
    "p"
   ]
  },
  {
   "cell_type": "code",
   "execution_count": 22,
   "metadata": {},
   "outputs": [
    {
     "name": "stdout",
     "output_type": "stream",
     "text": [
      "hello priyanshi\n",
      "11\n",
      "hello priyanshi\n",
      "11\n",
      "hello priyanshi\n",
      "11\n",
      "hello priyanshi\n",
      "11\n",
      "hello priyanshi\n",
      "11\n",
      "hello priyanshi\n",
      "11\n",
      "hello priyanshi\n",
      "11\n",
      "hello priyanshi\n",
      "11\n",
      "hello priyanshi\n",
      "11\n",
      "hello priyanshi\n",
      "11\n",
      "hello priyanshi\n",
      "11\n"
     ]
    }
   ],
   "source": [
    "for i in string:\n",
    "    print(\"hello priyanshi\")\n",
    "    print (len(string))"
   ]
  },
  {
   "cell_type": "code",
   "execution_count": 24,
   "metadata": {},
   "outputs": [
    {
     "name": "stdout",
     "output_type": "stream",
     "text": [
      "odd number: 1\n",
      "2\n",
      "odd number: 3\n",
      "4\n",
      "odd number: 5\n",
      "6\n",
      "odd number: 7\n",
      "8\n",
      "odd number: 9\n"
     ]
    }
   ],
   "source": [
    "mylists=[1,2,3,4,5,6,7,8,9]\n",
    "for num in mylists:\n",
    "    if (num%2==0):\n",
    "        print (num)\n",
    "    else:\n",
    "        print(f'odd number: {num}')"
   ]
  },
  {
   "cell_type": "code",
   "execution_count": 31,
   "metadata": {},
   "outputs": [
    {
     "name": "stdout",
     "output_type": "stream",
     "text": [
      "1\n",
      "3\n",
      "6\n",
      "10\n",
      "15\n",
      "21\n",
      "28\n",
      "36\n",
      "45\n",
      "55\n"
     ]
    }
   ],
   "source": [
    "list_sum=0\n",
    "my_listss=[1,2,3,4,5,6,7,8,9,10]\n",
    "for i in my_listss:\n",
    "    list_sum=list_sum+i\n",
    "    print(list_sum)    "
   ]
  },
  {
   "cell_type": "code",
   "execution_count": 32,
   "metadata": {},
   "outputs": [
    {
     "name": "stdout",
     "output_type": "stream",
     "text": [
      "3\n",
      "5\n",
      "7\n",
      "9\n",
      "11\n",
      "13\n",
      "15\n",
      "17\n",
      "19\n",
      "21\n"
     ]
    }
   ],
   "source": [
    "my_listss=[1,2,3,4,5,6,7,8,9,10]\n",
    "for i in my_listss:\n",
    "    list_sum=i+(i+1)\n",
    "    print(list_sum)    "
   ]
  },
  {
   "cell_type": "code",
   "execution_count": null,
   "metadata": {},
   "outputs": [],
   "source": []
  }
 ],
 "metadata": {
  "kernelspec": {
   "display_name": "Python 3",
   "language": "python",
   "name": "python3"
  },
  "language_info": {
   "codemirror_mode": {
    "name": "ipython",
    "version": 3
   },
   "file_extension": ".py",
   "mimetype": "text/x-python",
   "name": "python",
   "nbconvert_exporter": "python",
   "pygments_lexer": "ipython3",
   "version": "3.7.4"
  }
 },
 "nbformat": 4,
 "nbformat_minor": 2
}
