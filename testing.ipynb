{
  "nbformat": 4,
  "nbformat_minor": 0,
  "metadata": {
    "colab": {
      "name": "testing",
      "provenance": [],
      "collapsed_sections": []
    },
    "kernelspec": {
      "name": "python3",
      "display_name": "Python 3"
    },
    "accelerator": "GPU"
  },
  "cells": [
    {
      "cell_type": "code",
      "metadata": {
        "id": "5CI1pVSW6SMU",
        "colab_type": "code",
        "colab": {}
      },
      "source": [
        "from __future__ import division\n",
        "import numpy as np\n",
        "import cupy as cp # You need to have a CUDA-enabled GPU to use this package!\n",
        "import time"
      ],
      "execution_count": 11,
      "outputs": []
    },
    {
      "cell_type": "code",
      "metadata": {
        "id": "lHL8Iz616l6_",
        "colab_type": "code",
        "colab": {}
      },
      "source": [
        "import pandas as pd"
      ],
      "execution_count": 12,
      "outputs": []
    },
    {
      "cell_type": "code",
      "metadata": {
        "id": "usDWSSPk6og8",
        "colab_type": "code",
        "colab": {}
      },
      "source": [
        "A=pd.read_csv(\"short_x_data.csv\")\n",
        "B=pd.read_csv(\"short_x_labels.csv\")\n",
        "C=pd.read_csv(\"final_test_set.csv\")\n",
        "D=pd.read_csv(\"final_test_label.csv\")\n",
        "\n"
      ],
      "execution_count": 13,
      "outputs": []
    },
    {
      "cell_type": "code",
      "metadata": {
        "id": "Wxomqph56-X1",
        "colab_type": "code",
        "colab": {
          "base_uri": "https://localhost:8080/",
          "height": 34
        },
        "outputId": "ed347d5c-da94-4e51-eaed-c24b9cb703ed"
      },
      "source": [
        "print(A.shape,B.shape,C.shape,D.shape)"
      ],
      "execution_count": 14,
      "outputs": [
        {
          "output_type": "stream",
          "text": [
            "(2500, 500) (2500, 1) (2455, 500) (2455, 1)\n"
          ],
          "name": "stdout"
        }
      ]
    },
    {
      "cell_type": "code",
      "metadata": {
        "id": "0kVYJHZniayR",
        "colab_type": "code",
        "colab": {}
      },
      "source": [
        "short_x_data=A.values\n",
        "short_x_labels=B.values\n",
        "final_test_set=C.values\n",
        "final_test_label=D.values"
      ],
      "execution_count": 15,
      "outputs": []
    },
    {
      "cell_type": "code",
      "metadata": {
        "id": "gNHSWrZH7Gax",
        "colab_type": "code",
        "colab": {}
      },
      "source": [
        "thr = [100, 100]   #The threshold of hidden and output neurons\n",
        "lr = [.2,.2]    #The learning rate of hidden and ouput neurons\n",
        "lamda=[0.000001,0.000001]   # The regularization penalty for hidden and ouput neurons\n",
        "b=[5,48]    #The upper bound of wight initializations for hidden and ouput neurons\n",
        "a=[0,0]    #The lower bound of wight initializations for hidden and ouput neurons\n",
        "Nepoch = 40    #The maximum number of training epochs\n",
        "NumOfClasses = 2    #Number of classes\n",
        "Nlayers = 2    #Number of layers\n",
        "NhidenNeurons =400   #Number of hidden neurons\n",
        "Dropout=[0,0] \n",
        "tmax = 256 #Simulatin time\n",
        "#GrayLevels=255 #Image GrayLevels\n",
        "gamma=3 #The gamma parameter in the relative target firing calculation\n"
      ],
      "execution_count": 16,
      "outputs": []
    },
    {
      "cell_type": "code",
      "metadata": {
        "id": "BBtO5ELO7R4y",
        "colab_type": "code",
        "colab": {}
      },
      "source": [
        "#General settings\n",
        "loading=False   # Set it as True if you want to load a pretrained model\n",
        "LoadFrom= \"weights_pretrained.npy\"  # The pretrained model\n",
        "saving=True   # Set it as True if you want to save the trained model\n",
        "best_perf=0\n",
        "Nnrn = [NhidenNeurons, NumOfClasses]   # Number of neurons at hidden and output layers\n",
        "cats=[1,0]   # Reordering the categories"
      ],
      "execution_count": 17,
      "outputs": []
    },
    {
      "cell_type": "code",
      "metadata": {
        "id": "EIPhDszi7XhD",
        "colab_type": "code",
        "colab": {}
      },
      "source": [
        "#General variables\n",
        "x_train=[]  # To keep training images\n",
        "x_train_labels=[]  # To keep training labels\n",
        "x_test=[]  # To keep test images\n",
        "x_test_labels=[]  # To keep test labels\n",
        "W=[]#To hold the weights of hidden and output layers\n",
        "firingTime=[] #To hold the firing times of hidden and output layers\n",
        "Spikes=[] #To hold the spike trains of hidden and output layers\n",
        "X=[] #To be used in converting firing times to spike trains\n",
        "target = cp.zeros([NumOfClasses]) # To keep the target firing times of current image\n",
        "FiringFrequency=[] # to count number of spikes each neuron emits during an epoch"
      ],
      "execution_count": 18,
      "outputs": []
    },
    {
      "cell_type": "code",
      "metadata": {
        "id": "32MCb3l57bmb",
        "colab_type": "code",
        "colab": {}
      },
      "source": [
        "x_train.append(short_x_data)\n",
        "x_train_labels.append(short_x_labels)\n",
        "x_train= cp.asarray(x_train)\n",
        "x_train_labels = cp.asarray(x_train_labels)\n",
        "x_test = cp.asarray(final_test_set)\n",
        "x_test_labels = cp.asarray(final_test_label)"
      ],
      "execution_count": 19,
      "outputs": []
    },
    {
      "cell_type": "code",
      "metadata": {
        "id": "bVUkCn9W7nuL",
        "colab_type": "code",
        "colab": {
          "base_uri": "https://localhost:8080/",
          "height": 302
        },
        "outputId": "fca8d763-f37a-419e-ed4f-f84f1bc30f87"
      },
      "source": [
        "#Building the model\n",
        "layerSize=[[x_train[0].shape[0],x_train[0].shape[1]], [NhidenNeurons,1],[NumOfClasses,1]]    \n",
        "print(layerSize)\n",
        "x = cp.mgrid[0:layerSize[0][0],0:layerSize[0][1]]# To be used in converting raw image into a spike image\n",
        "print(x)\n",
        "SpikeImage = cp.zeros((layerSize[0][0],layerSize[0][1],tmax+1)) # To keep spike image\n",
        "# Initializing the network\n",
        "np.random.seed(0)\n",
        "for layer in range(Nlayers):\n",
        "    W.append(cp.asarray((b[layer] - a[layer]) * np.random.random_sample((Nnrn[layer], layerSize[layer][0],layerSize[layer][1]))))\n",
        "    firingTime.append(cp.asarray(np.zeros(Nnrn[layer])))\n",
        "    Spikes.append(cp.asarray(np.zeros((layerSize[layer+1][0],layerSize[layer+1][1],tmax+1))))\n",
        "    X.append(cp.asarray(np.mgrid[0:layerSize[layer+1][0],0:layerSize[layer+1][1]]))\n",
        "\n",
        "SpikeList=[SpikeImage]+Spikes\n",
        "print(len(SpikeList))"
      ],
      "execution_count": 20,
      "outputs": [
        {
          "output_type": "stream",
          "text": [
            "[[2500, 500], [400, 1], [2, 1]]\n",
            "[[[   0    0    0 ...    0    0    0]\n",
            "  [   1    1    1 ...    1    1    1]\n",
            "  [   2    2    2 ...    2    2    2]\n",
            "  ...\n",
            "  [2497 2497 2497 ... 2497 2497 2497]\n",
            "  [2498 2498 2498 ... 2498 2498 2498]\n",
            "  [2499 2499 2499 ... 2499 2499 2499]]\n",
            "\n",
            " [[   0    1    2 ...  497  498  499]\n",
            "  [   0    1    2 ...  497  498  499]\n",
            "  [   0    1    2 ...  497  498  499]\n",
            "  ...\n",
            "  [   0    1    2 ...  497  498  499]\n",
            "  [   0    1    2 ...  497  498  499]\n",
            "  [   0    1    2 ...  497  498  499]]]\n",
            "3\n"
          ],
          "name": "stdout"
        }
      ]
    },
    {
      "cell_type": "code",
      "metadata": {
        "id": "orDraDgG74d6",
        "colab_type": "code",
        "colab": {
          "base_uri": "https://localhost:8080/",
          "height": 50
        },
        "outputId": "5000413c-8725-407f-868c-77504d90ec07"
      },
      "source": [
        "# Start learning\n",
        "for epoch in range(Nepoch):\n",
        "    start_time = time.time()\n",
        "    correct=cp.zeros(NumOfClasses)\n",
        "    FiringFrequency=cp.zeros((NhidenNeurons))\n",
        "\n",
        "    # Start an epoch\n",
        "    for iteration in range(len(x_train)): \n",
        "        #converting input image into spiking image\n",
        "        SpikeImage[:,:,:]=0\n",
        "        SpikeImage[x[0],x[1],x_train[iteration]] = 1\n",
        "\n",
        "        #Feedforward path\n",
        "        for layer in range(Nlayers):\n",
        "            Voltage=cp.cumsum(cp.tensordot(W[layer], SpikeList[layer]),1) # Computing the voltage\n",
        "            Voltage[:,tmax]=thr[layer]+1 # Forcing the fake spike\n",
        "            firingTime[layer] = cp.argmax(Voltage>thr[layer],axis=1).astype(float)+1   # Findign the first threshold crossing  \n",
        "            firingTime[layer][firingTime[layer]>tmax]=tmax # Forcing the fake spike\n",
        "                \n",
        "            Spikes[layer][:,:,:]=0   \n",
        "            Spikes[layer][X[layer][0],X[layer][1],firingTime[layer].reshape(Nnrn[layer],1).astype(int)]=1 #converting firing times to spikes\n",
        "\n",
        "        \n",
        "        FiringFrequency =  FiringFrequency + (firingTime[0] < tmax) # FiringFrequency is used to find dead neurons\n",
        "\n",
        "        #Computing the relative target firing times\n",
        "        winner=np.argmin(firingTime[Nlayers-1]) \n",
        "        minFiring=min(firingTime[layer])\n",
        "        if minFiring == tmax:          \n",
        "            target[:]=minFiring\n",
        "            target[x_train_labels[iteration]]=minFiring-gamma\n",
        "            target=target.astype(int)\n",
        "        else:\n",
        "            target[:]=firingTime[layer][:]\n",
        "            toChange=(firingTime[layer]-minFiring)<gamma\n",
        "            target[toChange]=min(minFiring+gamma,tmax)\n",
        "            target[x_train_labels[iteration]]=minFiring\n",
        "          \n",
        "\n",
        "        #Backward path\n",
        "        layer= Nlayers-1 # Output layer\n",
        "\n",
        "        delta_o=(target-firingTime[layer])/tmax # Error in the ouput layer\n",
        "\n",
        "        #Gradient normalization\n",
        "        norm=cp.linalg.norm(delta_o)\n",
        "        if (norm!=0):\n",
        "            delta_o=delta_o/norm\n",
        "            \n",
        "        if Dropout[layer]>0:\n",
        "                firingTime[layer][cp.asarray(np.random.permutation(Nnrn[layer])[:Dropout[layer]])]=tmax\n",
        "        \n",
        "        # Updating hidden-output weights\n",
        "        hasFired_o=firingTime[layer-1]<firingTime[layer][:, cp.newaxis] # To find which hidden neurons has fired before the ouput neurons\n",
        "        W[layer][:,:,0]-=(delta_o[:, cp.newaxis]*hasFired_o*lr[layer]) # Update hidden-ouput weights \n",
        "        W[layer]-=lr[layer]*lamda[layer]*W[layer] # Weight regularization\n",
        "\n",
        "        # Backpropagating error to hidden neurons\n",
        "        delta_h=(cp.multiply(delta_o[:, cp.newaxis]*hasFired_o, W[layer][:,:,0])).sum(axis=0) #Backpropagated errors from ouput layer to hidden layer\n",
        "        \n",
        "\n",
        "        layer= Nlayers-2 # Hidden layer     \n",
        "        \n",
        "        #Gradient normalization\n",
        "        norm=cp.linalg.norm(delta_h)\n",
        "        if (norm!=0):\n",
        "            delta_h=delta_h/norm\n",
        "        # Updating input-hidden weights\n",
        "        hasFired_h=x_train[iteration]<firingTime[layer][:, cp.newaxis, cp.newaxis] # To find which input neurons has fired before the hidden neurons\n",
        "        W[layer]-=lr[layer]*delta_h[:, cp.newaxis, cp.newaxis]*hasFired_h # Update input-hidden weights \n",
        "        W[layer]-=lr[layer]*lamda[layer]*W[layer] # Weight regularization\n",
        "\n",
        "    #Evaluating on test samples\n",
        "    correct=0 \n",
        "    for iteration in range(len(x_test)):        \n",
        "        SpikeImage[:,:,:]=0\n",
        "        SpikeImage[x[0],x[1],x_test[iteration]] = 1\n",
        "        for layer in range(Nlayers):\n",
        "            Voltage=cp.cumsum(cp.tensordot(W[layer], SpikeList[layer]),1)\n",
        "            Voltage[:,tmax]=thr[layer]+1\n",
        "            firingTime[layer] = cp.argmax(Voltage>thr[layer],axis=1).astype(float)+1     \n",
        "            firingTime[layer][firingTime[layer]>tmax]=tmax\n",
        "            Spikes[layer][:,:,:]=0   \n",
        "            Spikes[layer][X[layer][0],X[layer][1],firingTime[layer].reshape(Nnrn[layer],1).astype(int)]=1\n",
        "        minFiringTime=firingTime[Nlayers-1].min()\n",
        "        if minFiringTime==tmax:\n",
        "            V=np.argmax(Voltage[:,tmax-3])\n",
        "            if V==x_test_labels[iteration]:\n",
        "              correct+=1\n",
        "        else:\n",
        "            if firingTime[layer][x_test_labels[iteration]]==minFiringTime:\n",
        "                correct+=1           \n",
        "    testPerf=correct/len(x_test)\n",
        "     \n",
        "     \n",
        "\n",
        "    \n",
        "\n",
        "    \n",
        "    print('epoch= ', epoch,  'Perf_test= ',testPerf)\n",
        "    print(\"--- %s seconds ---\" % (time.time() - start_time))\n",
        "      \n",
        "        \n",
        "    #To save the weights\n",
        "    if saving:\n",
        "      np.save(\"weights\", W, allow_pickle=True)\n",
        "      if testPerf>best_perf:\n",
        "        np.save(\"weights_best\", W, allow_pickle=True)\n",
        "        best_perf=val\n",
        "\n",
        "    #To find and reset dead neurons    \n",
        "    ResetCheck = FiringFrequency <0.001*len(images)    \n",
        "    ToReset = [i for i in range(NhidenNeurons) if ResetCheck[i]]\n",
        "    for i in ToReset:\n",
        "         W[0][i]=cp.asarray((b[0] - a[0]) * np.random.random_sample((layerSize[0][0],layerSize[0][1])) + a[0]) #r"
      ],
      "execution_count": null,
      "outputs": [
        {
          "output_type": "stream",
          "text": [
            "epoch=  0 Perf_test=  1.0\n",
            "--- 286.0313673019409 seconds ---\n"
          ],
          "name": "stdout"
        }
      ]
    },
    {
      "cell_type": "code",
      "metadata": {
        "id": "eHijd2Vp8VnD",
        "colab_type": "code",
        "colab": {}
      },
      "source": [
        ""
      ],
      "execution_count": null,
      "outputs": []
    }
  ]
}